{
 "cells": [
  {
   "cell_type": "markdown",
   "metadata": {},
   "source": [
    "# Trolley study"
   ]
  },
  {
   "cell_type": "markdown",
   "metadata": {},
   "source": [
    "## Measurement\n",
    "\n",
    "The objective was to\n",
    "- find 3 items in each drawer of a trolley with 5 drawers as fast as possible\n",
    "- the time to find 3 items in each drawer is measured\n",
    "- there are two trolleys:\n",
    "    - new trolley with improved layout\n",
    "    - old trolley\n",
    "\n",
    "19 people participated in the challenge with\n",
    "- 5 starting with the trolley with the new and improved layout\n",
    "- 14 starting with the old trolley\n",
    "\n",
    "In order to minimise the effect that people find the items quicker with practice in the statistical test, in the analysed data the number of people who started on the new trolley and those who started on the trolley should ideally be equal.\n",
    "\n",
    "We introduce the following notation for these two categories:\n",
    "\n",
    "- `NTF` = new trolley first\n",
    "- `OTF` = old trolley first\n",
    "\n",
    "Unfortunately, the number of people in these categories is imbalanced (5 starting on the new vs. 14 on the old), the pairing is not trivial.\n",
    "The approach that we take here is to pair the 5 `NTF` people with 5 `OTF` out of 19 at a time."
   ]
  },
  {
   "cell_type": "code",
   "execution_count": 1,
   "metadata": {},
   "outputs": [
    {
     "name": "stderr",
     "output_type": "stream",
     "text": [
      "/Users/edy/lib/build/anaconda/lib/python3.6/importlib/_bootstrap.py:219: RuntimeWarning: numpy.dtype size changed, may indicate binary incompatibility. Expected 96, got 88\n",
      "  return f(*args, **kwds)\n",
      "/Users/edy/lib/build/anaconda/lib/python3.6/importlib/_bootstrap.py:219: RuntimeWarning: numpy.dtype size changed, may indicate binary incompatibility. Expected 96, got 88\n",
      "  return f(*args, **kwds)\n",
      "/Users/edy/lib/build/anaconda/lib/python3.6/importlib/_bootstrap.py:219: RuntimeWarning: numpy.dtype size changed, may indicate binary incompatibility. Expected 96, got 88\n",
      "  return f(*args, **kwds)\n"
     ]
    }
   ],
   "source": [
    "import pandas as pd\n",
    "import scipy.stats\n",
    "import numpy as np\n",
    "import matplotlib.pyplot as plt\n",
    "%matplotlib inline"
   ]
  },
  {
   "cell_type": "code",
   "execution_count": 2,
   "metadata": {},
   "outputs": [],
   "source": [
    "plt.style.use('../python/matplotlib/styles/single_plot.mplstyle')"
   ]
  },
  {
   "cell_type": "markdown",
   "metadata": {},
   "source": [
    "Reading in the measurements into a `pandas.DataFrame`"
   ]
  },
  {
   "cell_type": "code",
   "execution_count": 3,
   "metadata": {},
   "outputs": [],
   "source": [
    "df = pd.read_csv('../data/measurements.dat', delim_whitespace=True)"
   ]
  },
  {
   "cell_type": "code",
   "execution_count": 4,
   "metadata": {},
   "outputs": [
    {
     "data": {
      "text/html": [
       "<div>\n",
       "<style scoped>\n",
       "    .dataframe tbody tr th:only-of-type {\n",
       "        vertical-align: middle;\n",
       "    }\n",
       "\n",
       "    .dataframe tbody tr th {\n",
       "        vertical-align: top;\n",
       "    }\n",
       "\n",
       "    .dataframe thead th {\n",
       "        text-align: right;\n",
       "    }\n",
       "</style>\n",
       "<table border=\"1\" class=\"dataframe\">\n",
       "  <thead>\n",
       "    <tr style=\"text-align: right;\">\n",
       "      <th></th>\n",
       "      <th>position</th>\n",
       "      <th>ot1</th>\n",
       "      <th>ot2</th>\n",
       "      <th>ot3</th>\n",
       "      <th>ot4</th>\n",
       "      <th>ot5</th>\n",
       "      <th>nt1</th>\n",
       "      <th>nt2</th>\n",
       "      <th>nt3</th>\n",
       "      <th>nt4</th>\n",
       "      <th>nt5</th>\n",
       "      <th>Order</th>\n",
       "      <th>ot_sum</th>\n",
       "      <th>nt_sum</th>\n",
       "    </tr>\n",
       "  </thead>\n",
       "  <tbody>\n",
       "    <tr>\n",
       "      <th>0</th>\n",
       "      <td>Band 7</td>\n",
       "      <td>30.39</td>\n",
       "      <td>12.22</td>\n",
       "      <td>44.23</td>\n",
       "      <td>15.50</td>\n",
       "      <td>34.09</td>\n",
       "      <td>34.00</td>\n",
       "      <td>34.50</td>\n",
       "      <td>43.38</td>\n",
       "      <td>10.93</td>\n",
       "      <td>5.89</td>\n",
       "      <td>New trolley 1.</td>\n",
       "      <td>136.43</td>\n",
       "      <td>128.70</td>\n",
       "    </tr>\n",
       "    <tr>\n",
       "      <th>1</th>\n",
       "      <td>Band 4</td>\n",
       "      <td>44.30</td>\n",
       "      <td>19.17</td>\n",
       "      <td>60.00</td>\n",
       "      <td>9.11</td>\n",
       "      <td>8.42</td>\n",
       "      <td>17.91</td>\n",
       "      <td>25.77</td>\n",
       "      <td>55.48</td>\n",
       "      <td>6.02</td>\n",
       "      <td>9.93</td>\n",
       "      <td>New trolley 1.</td>\n",
       "      <td>141.00</td>\n",
       "      <td>115.11</td>\n",
       "    </tr>\n",
       "    <tr>\n",
       "      <th>2</th>\n",
       "      <td>Band 4</td>\n",
       "      <td>46.89</td>\n",
       "      <td>23.54</td>\n",
       "      <td>40.11</td>\n",
       "      <td>14.64</td>\n",
       "      <td>37.57</td>\n",
       "      <td>16.82</td>\n",
       "      <td>10.52</td>\n",
       "      <td>18.96</td>\n",
       "      <td>10.75</td>\n",
       "      <td>9.06</td>\n",
       "      <td>Old trolley 1.</td>\n",
       "      <td>162.75</td>\n",
       "      <td>66.11</td>\n",
       "    </tr>\n",
       "    <tr>\n",
       "      <th>3</th>\n",
       "      <td>Band 5</td>\n",
       "      <td>16.86</td>\n",
       "      <td>14.78</td>\n",
       "      <td>41.82</td>\n",
       "      <td>6.01</td>\n",
       "      <td>28.54</td>\n",
       "      <td>22.56</td>\n",
       "      <td>18.16</td>\n",
       "      <td>8.00</td>\n",
       "      <td>7.73</td>\n",
       "      <td>9.80</td>\n",
       "      <td>New trolley 1.</td>\n",
       "      <td>108.01</td>\n",
       "      <td>66.25</td>\n",
       "    </tr>\n",
       "    <tr>\n",
       "      <th>4</th>\n",
       "      <td>Band 5</td>\n",
       "      <td>17.67</td>\n",
       "      <td>15.98</td>\n",
       "      <td>38.53</td>\n",
       "      <td>4.35</td>\n",
       "      <td>36.78</td>\n",
       "      <td>13.00</td>\n",
       "      <td>20.80</td>\n",
       "      <td>4.59</td>\n",
       "      <td>4.60</td>\n",
       "      <td>10.29</td>\n",
       "      <td>Old trolley 1.</td>\n",
       "      <td>113.31</td>\n",
       "      <td>53.28</td>\n",
       "    </tr>\n",
       "    <tr>\n",
       "      <th>5</th>\n",
       "      <td>Band 5</td>\n",
       "      <td>18.84</td>\n",
       "      <td>33.64</td>\n",
       "      <td>23.90</td>\n",
       "      <td>5.19</td>\n",
       "      <td>37.22</td>\n",
       "      <td>16.29</td>\n",
       "      <td>5.70</td>\n",
       "      <td>9.00</td>\n",
       "      <td>6.80</td>\n",
       "      <td>7.23</td>\n",
       "      <td>Old trolley 1.</td>\n",
       "      <td>118.79</td>\n",
       "      <td>45.02</td>\n",
       "    </tr>\n",
       "    <tr>\n",
       "      <th>6</th>\n",
       "      <td>SHO Dr</td>\n",
       "      <td>58.97</td>\n",
       "      <td>23.13</td>\n",
       "      <td>7.96</td>\n",
       "      <td>3.53</td>\n",
       "      <td>17.88</td>\n",
       "      <td>24.77</td>\n",
       "      <td>4.36</td>\n",
       "      <td>6.49</td>\n",
       "      <td>3.96</td>\n",
       "      <td>6.66</td>\n",
       "      <td>Old trolley 1.</td>\n",
       "      <td>111.47</td>\n",
       "      <td>46.24</td>\n",
       "    </tr>\n",
       "    <tr>\n",
       "      <th>7</th>\n",
       "      <td>Band 6</td>\n",
       "      <td>22.06</td>\n",
       "      <td>19.48</td>\n",
       "      <td>22.28</td>\n",
       "      <td>7.72</td>\n",
       "      <td>16.35</td>\n",
       "      <td>14.70</td>\n",
       "      <td>21.07</td>\n",
       "      <td>20.81</td>\n",
       "      <td>8.76</td>\n",
       "      <td>16.59</td>\n",
       "      <td>New trolley 1.</td>\n",
       "      <td>87.89</td>\n",
       "      <td>81.93</td>\n",
       "    </tr>\n",
       "    <tr>\n",
       "      <th>8</th>\n",
       "      <td>Band 5</td>\n",
       "      <td>16.01</td>\n",
       "      <td>20.98</td>\n",
       "      <td>31.87</td>\n",
       "      <td>7.25</td>\n",
       "      <td>22.43</td>\n",
       "      <td>19.26</td>\n",
       "      <td>13.27</td>\n",
       "      <td>5.95</td>\n",
       "      <td>10.93</td>\n",
       "      <td>5.38</td>\n",
       "      <td>Old trolley 1.</td>\n",
       "      <td>98.54</td>\n",
       "      <td>54.79</td>\n",
       "    </tr>\n",
       "    <tr>\n",
       "      <th>9</th>\n",
       "      <td>Consult.</td>\n",
       "      <td>39.02</td>\n",
       "      <td>12.50</td>\n",
       "      <td>25.15</td>\n",
       "      <td>14.81</td>\n",
       "      <td>12.82</td>\n",
       "      <td>23.31</td>\n",
       "      <td>6.12</td>\n",
       "      <td>5.39</td>\n",
       "      <td>4.32</td>\n",
       "      <td>6.50</td>\n",
       "      <td>Old trolley 1.</td>\n",
       "      <td>104.30</td>\n",
       "      <td>45.64</td>\n",
       "    </tr>\n",
       "    <tr>\n",
       "      <th>10</th>\n",
       "      <td>SHO Dr</td>\n",
       "      <td>34.87</td>\n",
       "      <td>23.99</td>\n",
       "      <td>10.04</td>\n",
       "      <td>6.18</td>\n",
       "      <td>21.52</td>\n",
       "      <td>25.53</td>\n",
       "      <td>5.70</td>\n",
       "      <td>6.82</td>\n",
       "      <td>4.56</td>\n",
       "      <td>6.12</td>\n",
       "      <td>Old trolley 1.</td>\n",
       "      <td>96.60</td>\n",
       "      <td>48.73</td>\n",
       "    </tr>\n",
       "    <tr>\n",
       "      <th>11</th>\n",
       "      <td>Band 6</td>\n",
       "      <td>16.87</td>\n",
       "      <td>13.09</td>\n",
       "      <td>23.40</td>\n",
       "      <td>3.56</td>\n",
       "      <td>50.91</td>\n",
       "      <td>6.10</td>\n",
       "      <td>5.22</td>\n",
       "      <td>7.79</td>\n",
       "      <td>3.06</td>\n",
       "      <td>9.79</td>\n",
       "      <td>Old trolley 1.</td>\n",
       "      <td>107.83</td>\n",
       "      <td>31.96</td>\n",
       "    </tr>\n",
       "    <tr>\n",
       "      <th>12</th>\n",
       "      <td>Consult.</td>\n",
       "      <td>17.33</td>\n",
       "      <td>22.26</td>\n",
       "      <td>26.02</td>\n",
       "      <td>7.11</td>\n",
       "      <td>13.90</td>\n",
       "      <td>15.32</td>\n",
       "      <td>4.85</td>\n",
       "      <td>20.57</td>\n",
       "      <td>4.13</td>\n",
       "      <td>5.58</td>\n",
       "      <td>Old trolley 1.</td>\n",
       "      <td>86.62</td>\n",
       "      <td>50.45</td>\n",
       "    </tr>\n",
       "    <tr>\n",
       "      <th>13</th>\n",
       "      <td>Band 5</td>\n",
       "      <td>16.21</td>\n",
       "      <td>10.79</td>\n",
       "      <td>18.91</td>\n",
       "      <td>4.99</td>\n",
       "      <td>13.16</td>\n",
       "      <td>21.36</td>\n",
       "      <td>17.32</td>\n",
       "      <td>16.54</td>\n",
       "      <td>8.82</td>\n",
       "      <td>6.93</td>\n",
       "      <td>New trolley 1.</td>\n",
       "      <td>64.06</td>\n",
       "      <td>70.97</td>\n",
       "    </tr>\n",
       "    <tr>\n",
       "      <th>14</th>\n",
       "      <td>Band 6</td>\n",
       "      <td>31.60</td>\n",
       "      <td>14.84</td>\n",
       "      <td>19.40</td>\n",
       "      <td>5.11</td>\n",
       "      <td>20.51</td>\n",
       "      <td>12.17</td>\n",
       "      <td>6.99</td>\n",
       "      <td>7.95</td>\n",
       "      <td>3.82</td>\n",
       "      <td>5.47</td>\n",
       "      <td>Old trolley 1.</td>\n",
       "      <td>91.46</td>\n",
       "      <td>36.40</td>\n",
       "    </tr>\n",
       "    <tr>\n",
       "      <th>15</th>\n",
       "      <td>Band 6</td>\n",
       "      <td>21.95</td>\n",
       "      <td>23.04</td>\n",
       "      <td>32.99</td>\n",
       "      <td>5.74</td>\n",
       "      <td>9.81</td>\n",
       "      <td>12.65</td>\n",
       "      <td>5.92</td>\n",
       "      <td>6.62</td>\n",
       "      <td>4.27</td>\n",
       "      <td>8.00</td>\n",
       "      <td>Old trolley 1.</td>\n",
       "      <td>93.53</td>\n",
       "      <td>37.46</td>\n",
       "    </tr>\n",
       "    <tr>\n",
       "      <th>16</th>\n",
       "      <td>Band 6</td>\n",
       "      <td>26.24</td>\n",
       "      <td>22.79</td>\n",
       "      <td>11.59</td>\n",
       "      <td>4.54</td>\n",
       "      <td>12.02</td>\n",
       "      <td>16.02</td>\n",
       "      <td>7.07</td>\n",
       "      <td>6.30</td>\n",
       "      <td>3.69</td>\n",
       "      <td>8.82</td>\n",
       "      <td>Old trolley 1.</td>\n",
       "      <td>77.18</td>\n",
       "      <td>41.90</td>\n",
       "    </tr>\n",
       "    <tr>\n",
       "      <th>17</th>\n",
       "      <td>Band 7</td>\n",
       "      <td>16.21</td>\n",
       "      <td>17.73</td>\n",
       "      <td>18.62</td>\n",
       "      <td>4.63</td>\n",
       "      <td>26.12</td>\n",
       "      <td>10.99</td>\n",
       "      <td>7.20</td>\n",
       "      <td>6.65</td>\n",
       "      <td>2.46</td>\n",
       "      <td>5.50</td>\n",
       "      <td>Old trolley 1.</td>\n",
       "      <td>83.31</td>\n",
       "      <td>32.80</td>\n",
       "    </tr>\n",
       "    <tr>\n",
       "      <th>18</th>\n",
       "      <td>Band 6</td>\n",
       "      <td>13.33</td>\n",
       "      <td>14.71</td>\n",
       "      <td>15.14</td>\n",
       "      <td>5.33</td>\n",
       "      <td>5.50</td>\n",
       "      <td>18.47</td>\n",
       "      <td>9.93</td>\n",
       "      <td>10.50</td>\n",
       "      <td>2.79</td>\n",
       "      <td>5.73</td>\n",
       "      <td>Old trolley 1.</td>\n",
       "      <td>54.01</td>\n",
       "      <td>47.42</td>\n",
       "    </tr>\n",
       "  </tbody>\n",
       "</table>\n",
       "</div>"
      ],
      "text/plain": [
       "    position    ot1    ot2    ot3    ot4    ot5    nt1    nt2    nt3    nt4  \\\n",
       "0     Band 7  30.39  12.22  44.23  15.50  34.09  34.00  34.50  43.38  10.93   \n",
       "1     Band 4  44.30  19.17  60.00   9.11   8.42  17.91  25.77  55.48   6.02   \n",
       "2     Band 4  46.89  23.54  40.11  14.64  37.57  16.82  10.52  18.96  10.75   \n",
       "3     Band 5  16.86  14.78  41.82   6.01  28.54  22.56  18.16   8.00   7.73   \n",
       "4     Band 5  17.67  15.98  38.53   4.35  36.78  13.00  20.80   4.59   4.60   \n",
       "5     Band 5  18.84  33.64  23.90   5.19  37.22  16.29   5.70   9.00   6.80   \n",
       "6     SHO Dr  58.97  23.13   7.96   3.53  17.88  24.77   4.36   6.49   3.96   \n",
       "7     Band 6  22.06  19.48  22.28   7.72  16.35  14.70  21.07  20.81   8.76   \n",
       "8     Band 5  16.01  20.98  31.87   7.25  22.43  19.26  13.27   5.95  10.93   \n",
       "9   Consult.  39.02  12.50  25.15  14.81  12.82  23.31   6.12   5.39   4.32   \n",
       "10    SHO Dr  34.87  23.99  10.04   6.18  21.52  25.53   5.70   6.82   4.56   \n",
       "11    Band 6  16.87  13.09  23.40   3.56  50.91   6.10   5.22   7.79   3.06   \n",
       "12  Consult.  17.33  22.26  26.02   7.11  13.90  15.32   4.85  20.57   4.13   \n",
       "13    Band 5  16.21  10.79  18.91   4.99  13.16  21.36  17.32  16.54   8.82   \n",
       "14    Band 6  31.60  14.84  19.40   5.11  20.51  12.17   6.99   7.95   3.82   \n",
       "15    Band 6  21.95  23.04  32.99   5.74   9.81  12.65   5.92   6.62   4.27   \n",
       "16    Band 6  26.24  22.79  11.59   4.54  12.02  16.02   7.07   6.30   3.69   \n",
       "17    Band 7  16.21  17.73  18.62   4.63  26.12  10.99   7.20   6.65   2.46   \n",
       "18    Band 6  13.33  14.71  15.14   5.33   5.50  18.47   9.93  10.50   2.79   \n",
       "\n",
       "      nt5           Order  ot_sum  nt_sum  \n",
       "0    5.89  New trolley 1.  136.43  128.70  \n",
       "1    9.93  New trolley 1.  141.00  115.11  \n",
       "2    9.06  Old trolley 1.  162.75   66.11  \n",
       "3    9.80  New trolley 1.  108.01   66.25  \n",
       "4   10.29  Old trolley 1.  113.31   53.28  \n",
       "5    7.23  Old trolley 1.  118.79   45.02  \n",
       "6    6.66  Old trolley 1.  111.47   46.24  \n",
       "7   16.59  New trolley 1.   87.89   81.93  \n",
       "8    5.38  Old trolley 1.   98.54   54.79  \n",
       "9    6.50  Old trolley 1.  104.30   45.64  \n",
       "10   6.12  Old trolley 1.   96.60   48.73  \n",
       "11   9.79  Old trolley 1.  107.83   31.96  \n",
       "12   5.58  Old trolley 1.   86.62   50.45  \n",
       "13   6.93  New trolley 1.   64.06   70.97  \n",
       "14   5.47  Old trolley 1.   91.46   36.40  \n",
       "15   8.00  Old trolley 1.   93.53   37.46  \n",
       "16   8.82  Old trolley 1.   77.18   41.90  \n",
       "17   5.50  Old trolley 1.   83.31   32.80  \n",
       "18   5.73  Old trolley 1.   54.01   47.42  "
      ]
     },
     "execution_count": 4,
     "metadata": {},
     "output_type": "execute_result"
    }
   ],
   "source": [
    "df"
   ]
  },
  {
   "cell_type": "markdown",
   "metadata": {},
   "source": [
    "where the columns correspond to:\n",
    "- `position`: position of the person (Band 3-7, Consultant, Dr)\n",
    "- `ot` = old trolley\n",
    "- `nt` = new trolley\n",
    "- `1,2,3,4,5`: drawer index, e.g. `ot2` is the time to find the 3 items in the second drawer of the old trolley\n",
    "- `Order`: which trolley was first\n",
    "- `ot_sum`: sum of the measured times for all the drawers in the old trolley\n",
    "- `nt_sum`: sum of the measured times for all the drawers in the new trolley"
   ]
  },
  {
   "cell_type": "markdown",
   "metadata": {},
   "source": [
    "Separating people who started on the new trolley and those who started on the old trolley."
   ]
  },
  {
   "cell_type": "code",
   "execution_count": 5,
   "metadata": {},
   "outputs": [],
   "source": [
    "NTF = df.query(\"Order == 'New trolley 1.'\")\n",
    "OTF = df.query(\"Order == 'Old trolley 1.'\")"
   ]
  },
  {
   "cell_type": "code",
   "execution_count": 6,
   "metadata": {},
   "outputs": [
    {
     "data": {
      "text/plain": [
       "5"
      ]
     },
     "execution_count": 6,
     "metadata": {},
     "output_type": "execute_result"
    }
   ],
   "source": [
    "len(NTF)"
   ]
  },
  {
   "cell_type": "code",
   "execution_count": 7,
   "metadata": {},
   "outputs": [
    {
     "data": {
      "text/plain": [
       "14"
      ]
     },
     "execution_count": 7,
     "metadata": {},
     "output_type": "execute_result"
    }
   ],
   "source": [
    "len(OTF)"
   ]
  },
  {
   "cell_type": "markdown",
   "metadata": {},
   "source": [
    "As we descrbibed in the introduction there are\n",
    "- 5 people who started on the new trolley = `NTF`\n",
    "- 14 people who started on the old trolley = `OTF`"
   ]
  },
  {
   "cell_type": "markdown",
   "metadata": {},
   "source": [
    "## Total trolley times"
   ]
  },
  {
   "cell_type": "markdown",
   "metadata": {},
   "source": [
    "`total trolley time` = sum of the measured times of all drawers within the trolley"
   ]
  },
  {
   "cell_type": "markdown",
   "metadata": {},
   "source": [
    "### Creating batches balanced pairings (pairing 5 `OTF` and 5 `NTF`)"
   ]
  },
  {
   "cell_type": "markdown",
   "metadata": {},
   "source": [
    "Unfortunately, the number of people in these categories is imbalanced (5 starting on the new vs. 14 on the old), the pairing is not trivial.\n",
    "The approach that we take here is to pair the 5 `NTF` people with 5 `OTF` out of 19 at a time, creating 3 batches of pairings."
   ]
  },
  {
   "cell_type": "markdown",
   "metadata": {},
   "source": [
    "First batch:\n",
    "- all the 5 `NTF` people\n",
    "- the first 5 `OTF` people out of 14\n",
    "\n",
    "\n",
    "- `B1_OT_total_time` = old trolley total times within the first batch\n",
    "- `B1_NT_total_time` = new trolley total times within the first batch"
   ]
  },
  {
   "cell_type": "code",
   "execution_count": 8,
   "metadata": {},
   "outputs": [],
   "source": [
    "B1_OT_total_time = np.append(NTF['ot_sum'].values, OTF[0:5]['ot_sum'].values)\n",
    "B1_NT_total_time = np.append(NTF['nt_sum'].values, OTF[0:5]['nt_sum'].values)"
   ]
  },
  {
   "cell_type": "markdown",
   "metadata": {},
   "source": [
    "Second batch:\n",
    "- all the 5 `NTF` people\n",
    "- the second 5 `OTF` people out of 14"
   ]
  },
  {
   "cell_type": "code",
   "execution_count": 9,
   "metadata": {},
   "outputs": [],
   "source": [
    "B2_OT_total_time = np.append(NTF['ot_sum'].values, OTF[5:10]['ot_sum'].values)\n",
    "B2_NT_total_time = np.append(NTF['nt_sum'].values, OTF[5:10]['nt_sum'].values)"
   ]
  },
  {
   "cell_type": "markdown",
   "metadata": {},
   "source": [
    "Third batch:\n",
    "\n",
    "- all the 5 `NTF` people\n",
    "- the last 5 `OTF` people out of 14 (note that 1 person is also in the second batch)"
   ]
  },
  {
   "cell_type": "code",
   "execution_count": 10,
   "metadata": {},
   "outputs": [],
   "source": [
    "B3_OT_total_time = np.append(NTF['ot_sum'].values, OTF[-6:-1]['ot_sum'].values)\n",
    "B3_NT_total_time = np.append(NTF['nt_sum'].values, OTF[-6:-1]['nt_sum'].values)"
   ]
  },
  {
   "cell_type": "markdown",
   "metadata": {},
   "source": [
    "Batches"
   ]
  },
  {
   "cell_type": "code",
   "execution_count": 11,
   "metadata": {},
   "outputs": [],
   "source": [
    "batches = [(B1_OT_total_time, B1_NT_total_time),\n",
    "           (B2_OT_total_time, B2_NT_total_time),\n",
    "           (B3_OT_total_time, B3_NT_total_time)]"
   ]
  },
  {
   "cell_type": "markdown",
   "metadata": {},
   "source": [
    "### Visualising the distribution of measured total times for old and new trolley within the batches"
   ]
  },
  {
   "cell_type": "markdown",
   "metadata": {},
   "source": [
    "#### Violin plots"
   ]
  },
  {
   "cell_type": "code",
   "execution_count": 12,
   "metadata": {},
   "outputs": [
    {
     "data": {
      "text/plain": [
       "Text(0,0.5,'Total time [s]')"
      ]
     },
     "execution_count": 12,
     "metadata": {},
     "output_type": "execute_result"
    },
    {
     "data": {
      "image/png": "[encoded data removed]",
      "text/plain": [
       "<Figure size 936x432 with 3 Axes>"
      ]
     },
     "metadata": {},
     "output_type": "display_data"
    }
   ],
   "source": [
    "f,axes = plt.subplots(ncols=3, figsize=(13,6))\n",
    "a = axes.flatten()\n",
    "violins1 = a[0].violinplot((B1_OT_total_time, B1_NT_total_time), (1.0, 2.0))\n",
    "violins2 = a[1].violinplot((B2_OT_total_time, B2_NT_total_time), (1.0, 2.0))\n",
    "violins3 = a[2].violinplot((B3_OT_total_time, B3_NT_total_time), (1.0, 2.0))\n",
    "\n",
    "violins1['bodies'][0].set_facecolor('C0')\n",
    "violins1['bodies'][1].set_facecolor('C1')\n",
    "\n",
    "violins2['bodies'][0].set_facecolor('C0')\n",
    "violins2['bodies'][1].set_facecolor('C1')\n",
    "\n",
    "violins3['bodies'][0].set_facecolor('C0')\n",
    "violins3['bodies'][1].set_facecolor('C1')\n",
    "\n",
    "a[0].set_ylim(30,170)\n",
    "a[1].set_ylim(30,170)\n",
    "a[2].set_ylim(30,170)\n",
    "\n",
    "a[0].set_xticks((1.0, 2.0))\n",
    "a[0].set_xticklabels(('Old trolley', 'New trolley'))\n",
    "a[0].set_ylabel('Total time [s]')\n",
    "\n",
    "a[1].set_xticks((1.0, 2.0))\n",
    "a[1].set_xticklabels(('Old trolley', 'New trolley'))\n",
    "a[1].set_ylabel('Total time [s]')\n",
    "\n",
    "a[2].set_xticks((1.0, 2.0))\n",
    "a[2].set_xticklabels(('Old trolley', 'New trolley'))\n",
    "a[2].set_ylabel('Total time [s]')"
   ]
  },
  {
   "cell_type": "markdown",
   "metadata": {},
   "source": [
    "First batch only"
   ]
  },
  {
   "cell_type": "code",
   "execution_count": 13,
   "metadata": {},
   "outputs": [
    {
     "data": {
      "text/plain": [
       "(114.225, 72.84)"
      ]
     },
     "execution_count": 13,
     "metadata": {},
     "output_type": "execute_result"
    }
   ],
   "source": [
    "B1_OT_total_time_mean = np.mean(B1_OT_total_time)\n",
    "B1_NT_total_time_mean = np.mean(B1_NT_total_time)\n",
    "B1_OT_total_time_mean, B1_NT_total_time_mean"
   ]
  },
  {
   "cell_type": "code",
   "execution_count": 14,
   "metadata": {},
   "outputs": [
    {
     "data": {
      "image/png": "[encoded data removed]",
      "text/plain": [
       "<Figure size 504x432 with 1 Axes>"
      ]
     },
     "metadata": {},
     "output_type": "display_data"
    }
   ],
   "source": [
    "f,a = plt.subplots(ncols=1, figsize=(7,6))\n",
    "violins1 = a.violinplot((B1_OT_total_time, B1_NT_total_time), vert=False, showmedians=False, showmeans=True)\n",
    "\n",
    "violins1['bodies'][0].set_facecolor('C0')\n",
    "violins1['bodies'][1].set_facecolor('C1')\n",
    "\n",
    "a.set_yticks((1.0, 2.0))\n",
    "a.set_yticklabels(('Old trolley', 'New trolley'), fontsize=15)\n",
    "a.set_xlabel('Total time for all 5 drawers [s]')\n",
    "\n",
    "B1_NT_total_time_mean_label = \"Mean: {:.0f}\".format(B1_NT_total_time_mean)\n",
    "B1_OT_total_time_mean_label = \"Mean: {:.0f}\".format(B1_OT_total_time_mean)\n",
    "\n",
    "a.text(B1_NT_total_time_mean, 1.8, B1_NT_total_time_mean_label, horizontalalignment='center')\n",
    "a.text(B1_OT_total_time_mean, 0.8, B1_OT_total_time_mean_label, horizontalalignment='center')\n",
    "\n",
    "f.savefig('../figures/violin_plot_first_batch_5_OTF_5_NTF.pdf', bbox_inches='tight')\n",
    "f.savefig('../figures/violin_plot_first_batch_5_OTF_5_NTF.png', bbox_inches='tight')"
   ]
  },
  {
   "cell_type": "markdown",
   "metadata": {},
   "source": [
    "## Statistical test"
   ]
  },
  {
   "cell_type": "markdown",
   "metadata": {},
   "source": [
    "### Welch's $t$-test"
   ]
  },
  {
   "cell_type": "markdown",
   "metadata": {},
   "source": [
    "**References:**\n",
    "- https://en.wikipedia.org/wiki/Student%27s_t-test#Equal_or_unequal_sample_sizes,_unequal_variances\n",
    "- https://en.wikipedia.org/wiki/Welch%27s_t-test\n",
    "- https://docs.scipy.org/doc/scipy-0.14.0/reference/generated/scipy.stats.ttest_ind.html"
   ]
  },
  {
   "cell_type": "markdown",
   "metadata": {},
   "source": [
    "> In statistics, Welch's t-test, or unequal variances t-test, is a two-sample location test which is used to test the hypothesis that two populations have equal means. Welch's t-test is an adaptation of Student's t-test, and is more reliable when the two samples have unequal variances and unequal sample sizes."
   ]
  },
  {
   "cell_type": "markdown",
   "metadata": {},
   "source": [
    "Here the populations are:\n",
    "- old trolley times\n",
    "- new trolley times\n",
    "\n",
    "**It is important to emphasize what assumption go in the statistical analysis.**\n",
    "\n",
    "#### Assumptions:\n",
    "- measured times are distributed as a normal distribution\n",
    "- the variance of the two populations is not equal\n",
    "\n",
    "These two assumptions at this level are questionable, as there are not enough data points to positively confirm these!"
   ]
  },
  {
   "cell_type": "markdown",
   "metadata": {},
   "source": [
    "#### Hypothesis definitions\n",
    "\n",
    "Null hypothesis $H_{0}$ is:\n",
    "- the two population means (mean of the old trolley times and mean of the new trolley times) are equal.\n",
    "\n",
    "\n",
    "Alternative hypothesis is $H_{1}$ is:\n",
    "- mean of the new trolley times is smaller than the mean of the old trolley times $\\equiv$ people are faster with the new trolely"
   ]
  },
  {
   "cell_type": "markdown",
   "metadata": {},
   "source": [
    "#### Welch's $t$-test statistic\n",
    "\n",
    "\\begin{equation}\n",
    "    t\n",
    "    =\n",
    "    \\frac{ \\bar{X}_{1} - \\bar{X}_{2} }\n",
    "    { \n",
    "      \\sqrt{ \\frac{ s^{2}_{1} }{ N_{1} }  +                          \\frac{ s^{2}_{2} }{ N_{2} } }\n",
    "    }\n",
    "\\end{equation}\n",
    "\n",
    "where in our case:\n",
    "- $X_{1}$: measured times in the old trolley\n",
    "- $X_{2}$: measured times in the new trolley\n",
    "- $\\bar{X}_{i}$: mean of the measured times\n",
    "- $s^{2}_{i}$: sample variance\n",
    "- $N_{i}$: sample size"
   ]
  },
  {
   "cell_type": "markdown",
   "metadata": {},
   "source": [
    "#### Distribution of Welch's $t$-test statistic"
   ]
  },
  {
   "cell_type": "markdown",
   "metadata": {},
   "source": [
    "See https://en.wikipedia.org/wiki/Welch's_t-test#Calculations"
   ]
  },
  {
   "cell_type": "markdown",
   "metadata": {},
   "source": [
    "#### Procedure\n",
    "\n",
    "We evaluate the $p$-value under $H_{0}$, and if the $p$-values is less than 0.05, we reject $H_{0}$."
   ]
  },
  {
   "cell_type": "markdown",
   "metadata": {},
   "source": [
    "Below we show the histogram of the measured times and evaluate the test statistic $t$ and the corresponding p-value evaluated with `scipy.stats.ttest_ind()`"
   ]
  },
  {
   "cell_type": "markdown",
   "metadata": {},
   "source": [
    "Plotting functions"
   ]
  },
  {
   "cell_type": "code",
   "execution_count": 15,
   "metadata": {},
   "outputs": [],
   "source": [
    "def show_histogram(old_trolley_times, new_trolley_times):\n",
    "    \n",
    "    f,a = plt.subplots()\n",
    "    a.hist(old_trolley_times, color='C0', label='Old trolley', range=(0.0, 180.0), bins=90)\n",
    "    a.hist(new_trolley_times, color='C1', label='New trolley', range=(0.0, 180.0), bins=90)\n",
    "    \n",
    "    t,pval =scipy.stats.ttest_ind(old_trolley_times, new_trolley_times, equal_var=False)\n",
    "    title = r\"$t= {:.3f}$, $p$-value = {:.4f}\".format(t, pval)\n",
    "    \n",
    "    a.set_xlabel('Total time [s]')\n",
    "    a.set_ylabel('Frequency')\n",
    "    \n",
    "    a.set_title(title)\n",
    "    a.legend()\n",
    "    \n",
    "    return f,a, t,pval"
   ]
  },
  {
   "cell_type": "code",
   "execution_count": 16,
   "metadata": {},
   "outputs": [],
   "source": [
    "def show_scatter(old_trolley_times, new_trolley_times):\n",
    "    \n",
    "    f,a = plt.subplots()\n",
    "    \n",
    "    nsize = len(old_trolley_times)\n",
    "    \n",
    "    x1 = np.random.uniform(0.0, 0.4, size=nsize)\n",
    "    x2 = np.random.uniform(0.6, 1.0, size=nsize)\n",
    "    \n",
    "    a.scatter(x1, new_trolley_times, color='C1', label='New trolley')\n",
    "    a.scatter(x2, old_trolley_times, color='C0', label='Old trolley')\n",
    "    \n",
    "    t,pval = scipy.stats.ttest_ind(old_trolley_times, new_trolley_times, equal_var=False)\n",
    "    title = r\"$t= {:.3f}$, $p$-value = {:.4f}\".format(t, pval)\n",
    "    \n",
    "    a.set_ylabel('Total time [s]')\n",
    "    a.set_xlabel('')\n",
    "    a.set_xticks(())\n",
    "    \n",
    "    #a.set_title(title)\n",
    "    a.legend()\n",
    "    \n",
    "    return f,a, t,pval"
   ]
  },
  {
   "cell_type": "code",
   "execution_count": 17,
   "metadata": {},
   "outputs": [
    {
     "data": {
      "image/png": "[encoded data removed]",
      "text/plain": [
       "<Figure size 648x432 with 1 Axes>"
      ]
     },
     "metadata": {},
     "output_type": "display_data"
    }
   ],
   "source": [
    "f,a,t,pval = show_histogram(B1_OT_total_time, B1_NT_total_time)\n",
    "f.savefig('../figures/histogram_first_batch_5_OTF_5_NTF.pdf', bbox_inches='tight')\n",
    "f.savefig('../figures/histogram_first_batch_5_OTF_5_NTF.png', bbox_inches='tight')"
   ]
  },
  {
   "cell_type": "code",
   "execution_count": 18,
   "metadata": {},
   "outputs": [
    {
     "data": {
      "image/png": "[encoded data removed]",
      "text/plain": [
       "<Figure size 648x432 with 1 Axes>"
      ]
     },
     "metadata": {},
     "output_type": "display_data"
    }
   ],
   "source": [
    "f,a,t,pval = show_histogram(B2_OT_total_time, B2_NT_total_time)"
   ]
  },
  {
   "cell_type": "code",
   "execution_count": 19,
   "metadata": {},
   "outputs": [
    {
     "data": {
      "image/png": "[encoded data removed]",
      "text/plain": [
       "<Figure size 648x432 with 1 Axes>"
      ]
     },
     "metadata": {},
     "output_type": "display_data"
    }
   ],
   "source": [
    "f,a,t,pval = show_histogram(B3_OT_total_time, B3_NT_total_time)"
   ]
  },
  {
   "cell_type": "markdown",
   "metadata": {},
   "source": [
    "**Observation:**\n",
    "In all batches the observed $p$-value for $H_{0}$ is less than 0.05, which indicates that $H_{0}$ be rejected in favour of $H_{1}$.\n",
    "\n",
    "We do have to be careful with claiming significant discovery as:\n",
    "- very limited data: 5 `NTF`, 14 `OTF`\n",
    "- assumed a specific distribution for the distribution of the times (normal distribution). It is advisable to evaluate the p-value assuming other distributions as well."
   ]
  },
  {
   "cell_type": "markdown",
   "metadata": {},
   "source": [
    "Scatter plot"
   ]
  },
  {
   "cell_type": "code",
   "execution_count": 20,
   "metadata": {},
   "outputs": [
    {
     "data": {
      "text/plain": [
       "(<Figure size 648x432 with 1 Axes>,\n",
       " <matplotlib.axes._subplots.AxesSubplot at 0x1a13911e10>,\n",
       " 3.2762730476121953,\n",
       " 0.004195982858812412)"
      ]
     },
     "execution_count": 20,
     "metadata": {},
     "output_type": "execute_result"
    },
    {
     "data": {
      "image/png": "[encoded data removed]",
      "text/plain": [
       "<Figure size 648x432 with 1 Axes>"
      ]
     },
     "metadata": {},
     "output_type": "display_data"
    }
   ],
   "source": [
    "show_scatter(B1_OT_total_time, B1_NT_total_time)"
   ]
  },
  {
   "cell_type": "markdown",
   "metadata": {},
   "source": [
    "### Detailed derivation on first batch to cross-check `scipy.stats.ttest_ind()`"
   ]
  },
  {
   "cell_type": "code",
   "execution_count": 21,
   "metadata": {},
   "outputs": [],
   "source": [
    "x1 = B1_OT_total_time\n",
    "x2 = B1_NT_total_time"
   ]
  },
  {
   "cell_type": "code",
   "execution_count": 22,
   "metadata": {},
   "outputs": [],
   "source": [
    "n1 = len(x1)\n",
    "n2 = len(x2)"
   ]
  },
  {
   "cell_type": "markdown",
   "metadata": {},
   "source": [
    "Mean"
   ]
  },
  {
   "cell_type": "code",
   "execution_count": 23,
   "metadata": {},
   "outputs": [
    {
     "data": {
      "text/plain": [
       "(114.225, 72.84)"
      ]
     },
     "execution_count": 23,
     "metadata": {},
     "output_type": "execute_result"
    }
   ],
   "source": [
    "x1_mean = np.mean(x1)\n",
    "x2_mean = np.mean(x2)\n",
    "x1_mean, x2_mean"
   ]
  },
  {
   "cell_type": "code",
   "execution_count": 24,
   "metadata": {},
   "outputs": [
    {
     "data": {
      "text/plain": [
       "41.38499999999999"
      ]
     },
     "execution_count": 24,
     "metadata": {},
     "output_type": "execute_result"
    }
   ],
   "source": [
    "x1_mean - x2_mean"
   ]
  },
  {
   "cell_type": "code",
   "execution_count": 25,
   "metadata": {},
   "outputs": [
    {
     "data": {
      "text/plain": [
       "8.276999999999997"
      ]
     },
     "execution_count": 25,
     "metadata": {},
     "output_type": "execute_result"
    }
   ],
   "source": [
    "(x1_mean - x2_mean)/5"
   ]
  },
  {
   "cell_type": "markdown",
   "metadata": {},
   "source": [
    "Median"
   ]
  },
  {
   "cell_type": "code",
   "execution_count": 26,
   "metadata": {},
   "outputs": [
    {
     "data": {
      "text/plain": [
       "(112.38999999999999, 66.18)"
      ]
     },
     "execution_count": 26,
     "metadata": {},
     "output_type": "execute_result"
    }
   ],
   "source": [
    "x1_median = np.median(B1_OT_total_time)\n",
    "x2_median = np.median(B1_NT_total_time)\n",
    "x1_median, x2_median"
   ]
  },
  {
   "cell_type": "code",
   "execution_count": 27,
   "metadata": {},
   "outputs": [
    {
     "data": {
      "text/plain": [
       "46.20999999999998"
      ]
     },
     "execution_count": 27,
     "metadata": {},
     "output_type": "execute_result"
    }
   ],
   "source": [
    "x1_median - x2_median"
   ]
  },
  {
   "cell_type": "code",
   "execution_count": 28,
   "metadata": {},
   "outputs": [
    {
     "data": {
      "text/plain": [
       "9.241999999999996"
      ]
     },
     "execution_count": 28,
     "metadata": {},
     "output_type": "execute_result"
    }
   ],
   "source": [
    "(x1_median - x2_median)/5"
   ]
  },
  {
   "cell_type": "markdown",
   "metadata": {},
   "source": [
    "Sample variance"
   ]
  },
  {
   "cell_type": "code",
   "execution_count": 29,
   "metadata": {},
   "outputs": [
    {
     "data": {
      "text/plain": [
       "(787.6232944444441, 807.9829999999997)"
      ]
     },
     "execution_count": 29,
     "metadata": {},
     "output_type": "execute_result"
    }
   ],
   "source": [
    "x1_var = np.var(x1, ddof=1)\n",
    "x2_var = np.var(x2, ddof=1)\n",
    "x1_var, x2_var"
   ]
  },
  {
   "cell_type": "markdown",
   "metadata": {},
   "source": [
    "Test statistic"
   ]
  },
  {
   "cell_type": "code",
   "execution_count": 30,
   "metadata": {},
   "outputs": [],
   "source": [
    "t = (x1_mean - x2_mean)/np.sqrt( (x1_var/n1) + (x2_var/n2))"
   ]
  },
  {
   "cell_type": "code",
   "execution_count": 31,
   "metadata": {},
   "outputs": [
    {
     "data": {
      "text/plain": [
       "3.2762730476121953"
      ]
     },
     "execution_count": 31,
     "metadata": {},
     "output_type": "execute_result"
    }
   ],
   "source": [
    "t"
   ]
  },
  {
   "cell_type": "code",
   "execution_count": 32,
   "metadata": {},
   "outputs": [
    {
     "data": {
      "text/plain": [
       "17.997069826706664"
      ]
     },
     "execution_count": 32,
     "metadata": {},
     "output_type": "execute_result"
    }
   ],
   "source": [
    "nu = ((x1_var/n1) + (x2_var/n2))**2/( (x1_var**2)/(n1**2 * (n1-1) ) + (x2_var**2)/(n2**2 * (n2-1) ) )\n",
    "nu"
   ]
  },
  {
   "cell_type": "code",
   "execution_count": 33,
   "metadata": {},
   "outputs": [
    {
     "data": {
      "text/plain": [
       "0.002097991429406143"
      ]
     },
     "execution_count": 33,
     "metadata": {},
     "output_type": "execute_result"
    }
   ],
   "source": [
    "p_value = 1 - scipy.stats.t.cdf(t, df=nu)\n",
    "p_value"
   ]
  },
  {
   "cell_type": "code",
   "execution_count": 34,
   "metadata": {},
   "outputs": [],
   "source": [
    "result = scipy.stats.ttest_ind(B1_OT_total_time, B1_NT_total_time)"
   ]
  },
  {
   "cell_type": "markdown",
   "metadata": {},
   "source": [
    "The p-value quoted by `ttest_ind` corresponds to a two tailed-test, whereas we know the directionality in our alternative hypothesis $H_{1}$ which assumes that new trolley mean time is shorter. Therefore we need the 1 tailed p-value which is half of the two tailed one."
   ]
  },
  {
   "cell_type": "code",
   "execution_count": 35,
   "metadata": {},
   "outputs": [
    {
     "data": {
      "text/plain": [
       "0.002097641117795145"
      ]
     },
     "execution_count": 35,
     "metadata": {},
     "output_type": "execute_result"
    }
   ],
   "source": [
    "result.pvalue/2"
   ]
  },
  {
   "cell_type": "markdown",
   "metadata": {},
   "source": [
    "\n",
    "Conclusion: `scipy.stats.ttest_ind()` seems to be consistent with the manual numerical derivation for a specific example. "
   ]
  },
  {
   "cell_type": "markdown",
   "metadata": {},
   "source": [
    "-----"
   ]
  },
  {
   "cell_type": "markdown",
   "metadata": {},
   "source": [
    "### First trolley new vs. old"
   ]
  },
  {
   "cell_type": "code",
   "execution_count": 36,
   "metadata": {},
   "outputs": [
    {
     "data": {
      "text/plain": [
       "Text(0.5,1,'First: old')"
      ]
     },
     "execution_count": 36,
     "metadata": {},
     "output_type": "execute_result"
    },
    {
     "data": {
      "image/png": "[encoded data removed]",
      "text/plain": [
       "<Figure size 576x504 with 2 Axes>"
      ]
     },
     "metadata": {},
     "output_type": "display_data"
    }
   ],
   "source": [
    "f,a = plt.subplots(nrows=2, figsize=(8,7))\n",
    "a = a.flatten()\n",
    "NTF['ot_sum'].plot.hist(ax=a[0], color='C0')\n",
    "NTF['nt_sum'].plot.hist(ax=a[0], color='C1')\n",
    "\n",
    "OTF[0:5]['ot_sum'].plot.hist(ax=a[1], color='C0')\n",
    "OTF[0:5]['nt_sum'].plot.hist(ax=a[1], color='C1')\n",
    "\n",
    "a[0].set_xlim(0.0, 180)\n",
    "a[1].set_xlim(0.0, 180)\n",
    "\n",
    "a[0].set_title('First: new')\n",
    "a[1].set_title('First: old')"
   ]
  },
  {
   "cell_type": "markdown",
   "metadata": {},
   "source": [
    "## Per drawer"
   ]
  },
  {
   "cell_type": "code",
   "execution_count": 37,
   "metadata": {},
   "outputs": [],
   "source": [
    "ndrawers = 5"
   ]
  },
  {
   "cell_type": "code",
   "execution_count": 38,
   "metadata": {},
   "outputs": [
    {
     "data": {
      "text/plain": [
       "Text(0.5,1,'First old')"
      ]
     },
     "execution_count": 38,
     "metadata": {},
     "output_type": "execute_result"
    },
    {
     "data": {
      "image/png": "[encoded data removed]",
      "text/plain": [
       "<Figure size 720x1080 with 10 Axes>"
      ]
     },
     "metadata": {},
     "output_type": "display_data"
    }
   ],
   "source": [
    "f,a = plt.subplots(nrows=5, ncols=2, figsize=(10,15))\n",
    "#a = a.flatten()\n",
    "for i in range(1,ndrawers+1):\n",
    "    \n",
    "    drawer_old_str = \"ot{}\".format(i) \n",
    "    drawer_new_str = \"nt{}\".format(i)\n",
    "    \n",
    "    NTF[drawer_old_str].plot.hist(color=\"C0\", ax=a[i-1][0], label='old')\n",
    "    NTF[drawer_new_str].plot.hist(color=\"C1\", ax=a[i-1][0], label='new')\n",
    "\n",
    "    OTF[5:10][drawer_old_str].plot.hist(color=\"C0\", ax=a[i-1][1], label='old')\n",
    "    OTF[5:10][drawer_new_str].plot.hist(color=\"C1\", ax=a[i-1][1], label='new')\n",
    "    \n",
    "    a[i-1][0].set_xlim(0.0, 70)\n",
    "    a[i-1][1].set_xlim(0.0, 70)\n",
    "    a[i-1][0].legend()\n",
    "    \n",
    "a[0][0].set_title(\"First new\")\n",
    "a[0][1].set_title(\"First old\")"
   ]
  },
  {
   "cell_type": "markdown",
   "metadata": {},
   "source": [
    "## Total drawer times"
   ]
  },
  {
   "cell_type": "markdown",
   "metadata": {},
   "source": [
    "Here we show the distribution of the measured total times for old and new trolleys for **all the people** (5 NTF, 14 OTF)."
   ]
  },
  {
   "cell_type": "code",
   "execution_count": 39,
   "metadata": {},
   "outputs": [
    {
     "data": {
      "text/plain": [
       "<matplotlib.legend.Legend at 0x1a13b9b358>"
      ]
     },
     "execution_count": 39,
     "metadata": {},
     "output_type": "execute_result"
    },
    {
     "data": {
      "image/png": "[encoded data removed]",
      "text/plain": [
       "<Figure size 648x432 with 1 Axes>"
      ]
     },
     "metadata": {},
     "output_type": "display_data"
    }
   ],
   "source": [
    "f,a = plt.subplots()\n",
    "df['ot_sum'].plot.hist(color='C0',edgecolor='k',ax=a, label='Old trolley')\n",
    "df['nt_sum'].plot.hist(color='C1',edgecolor='k',ax=a, label='New trolley')\n",
    "a.set_xlabel('Time [s]')\n",
    "a.set_xlim(0.0, 180)\n",
    "a.legend()"
   ]
  }
 ],
 "metadata": {
  "kernelspec": {
   "display_name": "Python 3",
   "language": "python",
   "name": "python3"
  },
  "language_info": {
   "codemirror_mode": {
    "name": "ipython",
    "version": 3
   },
   "file_extension": ".py",
   "mimetype": "text/x-python",
   "name": "python",
   "nbconvert_exporter": "python",
   "pygments_lexer": "ipython3",
   "version": "3.6.6"
  }
 },
 "nbformat": 4,
 "nbformat_minor": 2
}
